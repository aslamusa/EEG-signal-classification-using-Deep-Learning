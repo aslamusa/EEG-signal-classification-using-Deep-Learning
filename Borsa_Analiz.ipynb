{
  "nbformat": 4,
  "nbformat_minor": 0,
  "metadata": {
    "colab": {
      "provenance": [],
      "authorship_tag": "ABX9TyPwNQTOzFEnJ8tMRpUBs3VO",
      "include_colab_link": true
    },
    "kernelspec": {
      "name": "python3",
      "display_name": "Python 3"
    },
    "language_info": {
      "name": "python"
    }
  },
  "cells": [
    {
      "cell_type": "markdown",
      "metadata": {
        "id": "view-in-github",
        "colab_type": "text"
      },
      "source": [
        "<a href=\"https://colab.research.google.com/github/aslamusa/EEG-signal-classification-using-Deep-Learning/blob/master/Borsa_Analiz.ipynb\" target=\"_parent\"><img src=\"https://colab.research.google.com/assets/colab-badge.svg\" alt=\"Open In Colab\"/></a>"
      ]
    },
    {
      "cell_type": "code",
      "execution_count": null,
      "metadata": {
        "id": "u4d_275z3h9I"
      },
      "outputs": [],
      "source": [
        "import yfinance as yf\n",
        "from datetime import datetime, timedelta\n",
        "import time\n",
        "\n",
        "def get_stock_data(symbol):\n",
        "    stock = yf.Ticker(symbol)\n",
        "    # Son fiyat bilgisini al\n",
        "    data = stock.history(period=\"1d\", interval=\"30m\")\n",
        "    return data\n",
        "\n",
        "def print_stock_changes(symbol):\n",
        "    while True:\n",
        "        now = datetime.now()\n",
        "        current_time = now.strftime(\"%H:%M:%S\")\n",
        "        print(f\"Zaman: {current_time}\")\n",
        "        stock_data = get_stock_data(symbol)\n",
        "        print(stock_data.tail(1))  # Son veriyi yazdır\n",
        "        time.sleep(1800)  # 1800 saniye = yarım saat\n",
        "\n",
        "if __name__ == \"__main__\":\n",
        "    symbol = input(\"Hisse senedi simgesini girin: \")\n",
        "    print_stock_changes(symbol)"
      ]
    }
  ]
}